{
 "cells": [
  {
   "cell_type": "markdown",
   "metadata": {},
   "source": [
    "# Analysis of Su1Vx7\n",
    "```\n",
    "Analysis / figures of results from h_DsRnn_Prep_spa.ipynb\n",
    "Summarizing mult. RNNs / data sets based on Pandas ExTb and ProcTb.\n",
    "\n",
    "PREC: h_DsRnnAna_Pd.iphnb\n",
    "```"
   ]
  },
  {
   "cell_type": "markdown",
   "metadata": {},
   "source": [
    "```\n",
    "jupyter nbconvert --TemplateExporter.exclude_raw=True --TemplateExporter.exclude_input=True --to html --output tmp h_DsRnnAnaPd_Su1Vx7.ipynb\n",
    "\n",
    "jupyter nbconvert h_DsRnnAnaPd_Su1Vx7.ipynb \\\n",
    "--to html \\\n",
    "--output tmp \\\n",
    "--TemplateExporter.exclude_raw=True \\\n",
    "--TemplateExporter.exclude_input=True \\\n",
    "--TagRemovePreprocessor.remove_cell_tags=\"{'rmCell'}\" \\\n",
    "--TagRemovePreprocessor.remove_all_outputs_tags=\"{'rmOut'}\" \\\n",
    "--RegexRemovePreprocessor.patterns=\"[r'(?ms).*DeprecationWarning.*']\" \\\n",
    "--RegexRemovePreprocessor.patterns=\"[r'(?ms)Using TensorFlow.*']\" \\\n",
    "```\n",
    "\n",
    "Add this cell metadata (JSON) e.g: `{ \"tags\": [\"rmOut\"]}`"
   ]
  },
  {
   "cell_type": "markdown",
   "metadata": {},
   "source": [
    "# Imports"
   ]
  },
  {
   "cell_type": "code",
   "execution_count": null,
   "metadata": {},
   "outputs": [],
   "source": [
    "assert False, 'Deprication Warning! Superceded by h_DsRnnAnaPd_Pgrp.ipynb'"
   ]
  },
  {
   "cell_type": "code",
   "execution_count": null,
   "metadata": {
    "tags": [
     "rmOut"
    ]
   },
   "outputs": [],
   "source": [
    "%run h_DsRnn_def.ipynb"
   ]
  },
  {
   "cell_type": "code",
   "execution_count": null,
   "metadata": {},
   "outputs": [],
   "source": [
    "import pandas as pd\n",
    "%matplotlib inline\n",
    "# rcPar = mpl.rcParamsDefault\n",
    "rcPar = dict(mpl.rcParams) # special for %matplotlib inline!\n",
    "hplotstyles = lambda : [ plt.style.use('seaborn-talk'), mpl.rcParams.update({'figure.figsize': (18,4)}) ];\n",
    "# %matplotlib notebook\n",
    "plt.style.use('default') # necessary reset?\n",
    "hplotstyles();\n",
    "# plt.style.use('seaborn-talk') # 'default', 'dark_background', 'seaborn-talk'\n"
   ]
  },
  {
   "cell_type": "markdown",
   "metadata": {},
   "source": [
    "# ProcTb: Load model parameter sets"
   ]
  },
  {
   "cell_type": "code",
   "execution_count": null,
   "metadata": {},
   "outputs": [],
   "source": [
    "%run h_DsRnn_ProcTb.ipynb\n",
    "# ProcTb = ProcTb.filter(like='Su1Vx7')\n",
    "ProcTb.shape\n"
   ]
  },
  {
   "cell_type": "raw",
   "metadata": {},
   "source": [
    "#< Disp table\n",
    "ProcTb.append( ProcTb.apply(lambda x: x.DataDir+'Proc/').rename('ProcDir') )\n"
   ]
  },
  {
   "cell_type": "raw",
   "metadata": {},
   "source": [
    "# Disp transposed\n",
    "ProcTb.T.reset_index(drop=True).tail()\n",
    "# ProcTb.T.iloc[1]\n",
    "# ProcTb.head()\n"
   ]
  },
  {
   "cell_type": "code",
   "execution_count": null,
   "metadata": {},
   "outputs": [],
   "source": [
    "# Disp example pd.Series\n",
    "ProcTb.iloc[:,1]\n"
   ]
  },
  {
   "cell_type": "markdown",
   "metadata": {
    "toc-hr-collapsed": false
   },
   "source": [
    "## [ Load ExTb - need this? ]\n"
   ]
  },
  {
   "cell_type": "raw",
   "metadata": {},
   "source": [
    "%%time\n",
    "# ExTb: Table (PD Df) of experiments / data files.\n",
    "%run ~/matlab/htools1/hpy/h_DsRnn_ExTb.ipynb"
   ]
  },
  {
   "cell_type": "raw",
   "metadata": {},
   "source": [
    "%%time\n",
    "# ExTb = pd.read_hdf(Par['DataDir']+'ExTb.h5','ExTb')\n",
    "ExTb = pd.read_pickle(Par['DataDir']+'Proc/ExTb.pkl.gz')\n"
   ]
  },
  {
   "cell_type": "raw",
   "metadata": {},
   "source": [
    "SecTb = pd.read_hdf(Par['DataDir']+'SecTb_xs.h5')\n"
   ]
  },
  {
   "cell_type": "markdown",
   "metadata": {},
   "source": [
    "## Load models / ProcDirs"
   ]
  },
  {
   "cell_type": "code",
   "execution_count": null,
   "metadata": {},
   "outputs": [],
   "source": [
    "os.chdir(ProcTb.iloc[:,1].DataDir)\n",
    "# os.chdir(ProcTb.iloc[:,1].DataDir+'Proc06/') # FIXIT: Not using ProcDir\n",
    "# os.chdir(ProcTb.iloc[:,1].DataDir+'Proc05/') # FIXIT: Not using ProcDir\n",
    "os.getcwd()"
   ]
  },
  {
   "cell_type": "code",
   "execution_count": null,
   "metadata": {},
   "outputs": [],
   "source": [
    "Fname = hsys('find Proc06/Proc*/Km_Su1Vx7_* -iname \"EvalData.mat\"') # ***\n",
    "Fname = hsys('find Proc*/Proc_Km_Su0Vs1 -iname \"EvalData.mat\"') # ***\n",
    "# Fname = hsys('find Proc06/Proc_Km_Su?V?? -iname \"EvalData.mat\"') # *** comp Su0Vs1 Su1Vx7\n",
    "#Fname = hsys('find Proc06/Proc*/Km_Su1Vx7_* Proc*/Proc_Km_Su0Vs1 -iname \"EvalData.mat\"') # ***\n",
    "# Fname = hsys('find Proc*/*/Km_Su0Vs1Rs* -iname \"EvalData.mat\"') # ***\n",
    "#< Fname = hsys('find Proc*/*/Km_Su0Vf20Xn* -iname \"EvalData.mat\"') # ***\n",
    "# Fname = hsys('find Proc_* Km* -iname \"model.h5\"')\n",
    "# Fname = hsys('find Proc_* Km* -iname \"EvalData.mat\"')\n",
    "#Fname = hsys('find -L Proc_TVdata -iname \"EvalData.mat\"')\n",
    "# Fname = hsys('find Proc*/*/Km_Su1Vx7Rper_* -iname \"EvalData.mat\"')\n",
    "Fname = sorted( Fname, key=os.path.getctime, reverse=False) #[0]\n",
    "Fname = list(map(hFpath,Fname))\n",
    "len(Fname)\n",
    "Fname\n"
   ]
  },
  {
   "cell_type": "raw",
   "metadata": {},
   "source": [
    "ProcId = ('Vx1','Vs1','Su1Vxn','D1Su1Vxn','Su0Vs1','Su1Vx7_')[-1]\n",
    "[ n for n in Fname if ProcId in n]\n"
   ]
  },
  {
   "cell_type": "code",
   "execution_count": null,
   "metadata": {},
   "outputs": [],
   "source": [
    "### Filter Fname by ProcId\n",
    "ProcId = ('','Vx1','Vs1','Su1Vxn','D1Su1Vxn','Su0Vs1','Su1Vx7_','Su1Vx7Drop_','Vs1Xn','Vx1Xn')[0]\n",
    "ProcId = ('','Su1Vx7_','Su1Vf20Xn0_','Su0Vs1_')[0]\n",
    "# ProcId = ('Su1Vr3_','Su1Vr3lin_','Su1Vr3')[0]\n",
    "# Fname = hsys('find Km_%s_*/ -iname \"EvalData.mat\"'%ProcId ) # Vs1\n",
    "if ProcId: Fname = [ n for n in Fname if ProcId in n]\n",
    "# if ProcId: Fname = filter(lambda x: ProcId in x, Fname)"
   ]
  },
  {
   "cell_type": "raw",
   "metadata": {},
   "source": [
    "### Filter to retain only Xn0\n",
    "tmp = [ n for n in Fname if 'Xn0' in n] # ***\n",
    "if len(tmp) > 0:\n",
    "    Fname = tmp"
   ]
  },
  {
   "cell_type": "code",
   "execution_count": null,
   "metadata": {},
   "outputs": [],
   "source": [
    "Fname = list(map(hFpath,Fname))\n",
    "Fname = sorted(Fname)\n",
    "assert len(Fname), 'Oops! No files?!'\n",
    "print( '\\n'.join( Fname[:8])+'\\n... total %u'%len(Fname))"
   ]
  },
  {
   "cell_type": "code",
   "execution_count": null,
   "metadata": {},
   "outputs": [],
   "source": [
    "%%time\n",
    "Pars = hLoadProcDir( Fname)"
   ]
  },
  {
   "cell_type": "markdown",
   "metadata": {},
   "source": [
    "## Convert Pars to Pandas (ProcTb or SecTb)"
   ]
  },
  {
   "cell_type": "code",
   "execution_count": null,
   "metadata": {},
   "outputs": [],
   "source": [
    "Pars[0].keys()"
   ]
  },
  {
   "cell_type": "raw",
   "metadata": {},
   "source": [
    "tmp = pd.DataFrame.from_records(Pars)"
   ]
  },
  {
   "cell_type": "raw",
   "metadata": {},
   "source": [
    "tmp.T"
   ]
  },
  {
   "cell_type": "markdown",
   "metadata": {},
   "source": [
    "## Check training success"
   ]
  },
  {
   "cell_type": "code",
   "execution_count": null,
   "metadata": {},
   "outputs": [],
   "source": [
    "for par in Pars:\n",
    "    tmp = par['TrainLog'].val_loss.values\n",
    "    n = tmp.argmin()\n",
    "    par['TrainMetric'] = ( tmp[n] - tmp[0] ) / np.diff(tmp[:n]).std()\n",
    "    par['BestValEpoch'] = n\n",
    "    # print('%u \\t%f'%(n,par['TrainMetric']))\n"
   ]
  },
  {
   "cell_type": "code",
   "execution_count": null,
   "metadata": {},
   "outputs": [],
   "source": [
    "#np.array( [ par['TrainMetric'] for par in Pars])\n",
    "plt.stem(np.array( [ par['TrainMetric'] for par in Pars]), use_line_collection=True);\n",
    "plt.ylabel('TrainMetric [$\\Delta$ Loss / SD ]');\n",
    "plt.xlabel('models');\n"
   ]
  },
  {
   "cell_type": "code",
   "execution_count": null,
   "metadata": {},
   "outputs": [],
   "source": [
    "hylimmax = lambda x=(0.5,1.5): plt.ylim( max(plt.ylim()[0],x[0]),min(plt.ylim()[1],x[1]) )\n",
    "\n",
    "fig,ax = plt.subplots(1,1, figsize=(6,6))\n",
    "for n in range(len(Pars)):\n",
    "    x = Pars[n]['TrainLog']['val_loss']\n",
    "    plt.plot( x/x[0] )\n",
    "\n",
    "# plt.ylim(0.5,1.5)\n",
    "hylimmax((0.5,1.5))\n",
    "if len(Pars)<9: plt.legend(range(len(Pars)));"
   ]
  },
  {
   "cell_type": "markdown",
   "metadata": {},
   "source": [
    "-------------------------------------\n",
    "### Compare training success across model parameters (ProcGroups)\n",
    "#### Notes:\n",
    " * Su1Vr3 and Su1Vr3lin show little difference in average TrainMetric\n",
    "   * ...except for 3 neg. outliers (better) in the former."
   ]
  },
  {
   "cell_type": "code",
   "execution_count": null,
   "metadata": {},
   "outputs": [],
   "source": [
    "# [ tuple( par[k] for k in ('ProcId','TrainMetric') ) for par in Pars ]\n",
    "# [ { k:par[k] for k in ('ProcId','TrainMetric') } for par in Pars ]\n",
    "# Tb = pd.DataFrame( Pars )[['ProcId','TrainMetric']]\n",
    "Tb = pd.DataFrame( Pars, columns=['ProcId','TrainMetric','BestValEpoch']) #.set_index('ProcId',drop=False)\n",
    "# Tb['ProcGroup'] = Tb.ProcId.str.split('_',1,expand=True)\n",
    "Tb[['ProcGroup','ProcId']] = Tb.ProcId.str.split('_',1,expand=True)\n",
    "Tb = Tb.set_index(['ProcGroup','ProcId'])\n",
    "# Tb.head()\n"
   ]
  },
  {
   "cell_type": "code",
   "execution_count": null,
   "metadata": {},
   "outputs": [],
   "source": [
    "# HOWTO Pandas boxplot - by=boxes, column=axes\n",
    "Tb.boxplot(column='TrainMetric', by='ProcGroup', figsize=(3,4), rot=20);\n",
    "plt.suptitle(None); plt.title(None); plt.ylabel('TrainMetric')\n",
    "# plt.ylim(-10,0)\n",
    "# Tb.get_loc( Tb.TrainMetric < 10 )\n",
    "Tb[ Tb.TrainMetric < -10 ] \n"
   ]
  },
  {
   "cell_type": "markdown",
   "metadata": {},
   "source": [
    "## Make Xarray from Pars (~SecTb)\n",
    "[Scratch](#Scratch)"
   ]
  },
  {
   "cell_type": "code",
   "execution_count": null,
   "metadata": {},
   "outputs": [],
   "source": [
    "## Make a MultiIndex for Su*Sec\n",
    "import xarray as xr\n",
    "\n",
    "idx = [ ( par['SuId'], n) for par in Pars for n in range(par['x'].shape[0]) ]\n",
    "idx = pd.MultiIndex.from_tuples(idx,names=['Su','Sc'])\n",
    "\n",
    "Data = np.concatenate( [ np.concatenate([par['x'],par['y'],par['yh']],-1) for par in Pars ], 0 )\n",
    "Data = xr.DataArray( Data, dims=['Sec','t','Ch'], \\\n",
    "                    coords={'Ch':['card','resp','mask','Gsig','y','yh'], 'Sec':idx})\n",
    "\n",
    "Data.shape\n",
    "# Data"
   ]
  },
  {
   "cell_type": "code",
   "execution_count": null,
   "metadata": {},
   "outputs": [],
   "source": [
    "ValTag = [ par['ValTag'] for par in Pars ] # TODO: store in Par?\n",
    "assert 1 == len( np.unique(ValTag)), 'Oops! Multiple ValTag numbers!?'"
   ]
  },
  {
   "cell_type": "raw",
   "metadata": {},
   "source": [
    "idx = pd.DataFrame()\n",
    "for par in Pars:\n",
    "    tmp = pd.DataFrame( par['SecNp'], columns=['Su','Se','Ex','Sc','Vt'] )\n",
    "    # tmp['ValTag'] = par['ValTag']\n",
    "    try:\n",
    "        par['ValTag'] = par['ValTag'][0]\n",
    "        warn('Converted ValTag from list to int!')\n",
    "    except:\n",
    "        pass\n",
    "    tmp = tmp[ tmp.Vt==par['ValTag'] ]\n",
    "    tmp = tmp.drop(columns='Vt')\n",
    "    tmp['ProcGrp'] = par['ProcId'].split('_')[0]\n",
    "    idx = idx.append(tmp)\n",
    "\n",
    "idx = pd.MultiIndex.from_frame( idx )\n",
    "# idx = idx.remove_unused_levels() # useless!\n",
    "if idx.levshape[-1]<2 : idx = idx.droplevel(-1)\n",
    "\n"
   ]
  },
  {
   "cell_type": "code",
   "execution_count": null,
   "metadata": {},
   "outputs": [],
   "source": [
    "idx = pd.DataFrame()\n",
    "for par in Pars:\n",
    "    tmp = pd.DataFrame( par['SecNp'], columns=['Su','Se','Ex','Sc','Vt'] )\n",
    "    # tmp['ValTag'] = par['ValTag']\n",
    "    # tmp = tmp[ tmp.Vt==par['ValTag'] ]\n",
    "    if par['ValFrac']:\n",
    "        tmp.Vt = tmp.Vt.apply( lambda x: np.where( x<1, x>=(1-par['ValFrac']), x ))\n",
    "        tmp.Vt = tmp.Vt.astype(int)\n",
    "\n",
    "    tmp = tmp[ np.any( np.c_[tmp.Vt.values] == np.r_[par['ValTag']],-1) ]\n",
    "    tmp = tmp.drop(columns='Vt')\n",
    "    tmp['ProcGrp'] = par['ProcId'].split('_')[0]\n",
    "    #< tmp['ProcGrp'] += par['ProcId'][-1]\n",
    "    idx = idx.append(tmp)\n",
    "\n",
    "idx = idx.astype(int,errors='ignore')\n",
    "idx = pd.MultiIndex.from_frame( idx )\n",
    "# idx = idx.remove_unused_levels() # useless!\n",
    "if idx.levshape[-1]<2 : idx = idx.droplevel(-1)\n",
    "\n"
   ]
  },
  {
   "cell_type": "code",
   "execution_count": null,
   "metadata": {},
   "outputs": [],
   "source": [
    "# Data = xr.DataArray( Data, dims=['Sec','t','Ch'], coords={'Ch':['card','resp','mask','Gsig','y','yh'], 'Sec':idx})\n",
    "Data.coords['Sec'] = idx; # This should work\n",
    "Data.coords['t'] = np.arange(Data.sizes['t'])/20; # Why does this not quite work properly?"
   ]
  },
  {
   "cell_type": "code",
   "execution_count": null,
   "metadata": {},
   "outputs": [],
   "source": [
    "abs(Data).max(axis=(0,1)) # global max for each channel\n",
    "tmp = abs(Data).max('t') >= abs(Data).max(['Sec','t'])*0.95 # which sections reach max...\n",
    "tmp = np.abs(Data).max('t') > 4.01 # which sections reach max...\n",
    "tmp = tmp[...,:2].any(axis=-1) # ...in any chan.\n",
    "\n",
    "# HOWTO use Xarray assign_coords\n",
    "Data = Data.assign_coords(Clipped=tmp) # mark maxes chans in coord. Clipped\n"
   ]
  },
  {
   "cell_type": "code",
   "execution_count": null,
   "metadata": {},
   "outputs": [],
   "source": [
    "Data.coords"
   ]
  },
  {
   "cell_type": "code",
   "execution_count": null,
   "metadata": {},
   "outputs": [],
   "source": [
    "# HOWTO use multi-dim boolean index on xarray - apply to np.array!\n",
    "# Data.values[Data[:,:,-2]==0,-2] = np.nan # +++\n",
    "Data.values[:,np.all( Data[:,:,-2]==0, 0),-2] = np.nan # +++\n",
    "# Data.values[ np.roll( Data.loc[:,:,'mask'].values==0, -1, -1), -2] = np.nan # +++\n"
   ]
  },
  {
   "cell_type": "raw",
   "metadata": {},
   "source": [
    "Data.loc[...,['mask','y']]\n",
    "Data.loc[...,['mask','y']][0,:,:].plot.line(x='t',marker='o', xlim=(0,20))\n"
   ]
  },
  {
   "cell_type": "code",
   "execution_count": null,
   "metadata": {},
   "outputs": [],
   "source": [
    "# HOWTO set Matplotlib default font size:\n",
    "\n",
    "# mpl.rcParams.update({'font.size': 12})\n",
    "# plt.rc('axes', titlesize=SMALL_SIZE, labelsize=MEDIUM_SIZE)\n",
    "# mpl.rcParams.update({'axes.labelsize': 16})\n",
    "# mpl.rcParams.update({'axes.titlesize': 16})\n",
    "# plt.rcParams.update({'axes.labelsize': 'large'})\n",
    "# plt.rcParams.update({'axes.titlesize': 'large'})"
   ]
  },
  {
   "cell_type": "raw",
   "metadata": {},
   "source": [
    "# Fig: ???\n",
    "# h = Data[0,:,:].plot.line(x='t');\n",
    "h = Data[0,:,[0,1,-2,-1]].plot.line(x='t');\n",
    "plt.setp(h[-2],'marker','o','ls','None','color','r');\n",
    "plt.setp(h[-1],'color','r');\n",
    "#plt.legend([ n.get_label() for n in h]) # Why this don't work?!?\n",
    "plt.legend(Data.coords['Ch'].values[[0,1,-2,-1]]);\n",
    "# plt.legend(Data.coords['Ch'].values[[0,1,-2,-1]], fontsize=16);"
   ]
  },
  {
   "cell_type": "raw",
   "metadata": {},
   "source": [
    "# Fig: ??? like plotchan\n",
    "# HOWTO Xarray.plot.line - similar to hplotchan\n",
    "h = Data[0,:,:].plot.line(x='t',row='Ch', figsize=(18,9), yscale=None, sharey=False)\n",
    "# Data[16:26,:,-2:].plot.line(x='t',row='Sec', figsize=(18,18))\n",
    "[ (n.set_ylabel(n.get_title()), n.set_title(None)) for n in plt.gcf().get_axes()]\n",
    "# vars(h)\n",
    "# h._mappables[1][0].markers = '.'\n",
    "h._mappables[-2][0].set_marker('.')\n",
    "# plt.xlim(0,500)\n"
   ]
  },
  {
   "cell_type": "raw",
   "metadata": {},
   "source": [
    "#h[-2].get_label()\n",
    "[ n.get_label() for n in h]\n",
    "dir(Data.coords['Ch'])\n",
    "list(Data.coords['Ch'].to_index())\n",
    "Data.coords['Ch'].values\n"
   ]
  },
  {
   "cell_type": "raw",
   "metadata": {},
   "source": [
    "#Pars[0]\n",
    "# pd.MultiIndex.from_product([ [1], range(Pars[0]['x'].shape[0])])\n",
    "# [ ( n, m) for n in range(len(Pars)) for m in range(Pars[n]['x'].shape[0]) ]\n",
    "# idx = [ ( int(par['ValSu'][0]), n) for par in Pars for n in range(par['x'].shape[0]) ]\n",
    "idx = [ ( par['SuId'], n) for par in Pars for n in range(par['x'].shape[0]) ]\n",
    "idx = pd.MultiIndex.from_tuples(idx,names=['Su','Sc'])\n",
    "Data = np.concatenate( [ np.concatenate([par['x'],par['y'],par['yh']],-1) for par in Pars ], 0 )\n",
    "Data = xr.DataArray( Data, dims=['Sec','t','Ch'], \\\n",
    "                    coords={'Ch':['card','resp','mask','Gsig','y','yh'], 'Sec':idx})\n",
    "\n",
    "Data.shape\n",
    "# Data"
   ]
  },
  {
   "cell_type": "raw",
   "metadata": {},
   "source": [
    "idx = pd.MultiIndex.from_tuples(idx,names=['Su','Sc'])\n",
    "# idx = pd.DataFrame( idx,columns=['Su','Sec'])\n",
    "# Data.set_index( idx[['Su','Sec']] )\n",
    "Data.set_index( {'Sec':idx})\n",
    "idx"
   ]
  },
  {
   "cell_type": "markdown",
   "metadata": {},
   "source": [
    "*****************************************"
   ]
  },
  {
   "cell_type": "raw",
   "metadata": {},
   "source": [
    "# Fig: [+--]\n",
    "fig,ax = plt.subplots(1,1,figsize=(18,16))\n",
    "hplotch(Data.values[:32,:,-2].T,'.');\n"
   ]
  },
  {
   "cell_type": "markdown",
   "metadata": {},
   "source": [
    "************************************************************\n",
    "# Compute Metrics"
   ]
  },
  {
   "cell_type": "code",
   "execution_count": null,
   "metadata": {},
   "outputs": [],
   "source": [
    "# NOTE: Must mask zeros for plotting AND compute par['WRVF']\n",
    "\n",
    "# NOTE: RVF favors sections that have higher var in y.\n",
    "hnanrvf = lambda y,yh,dim: np.nanvar( yh-y, dim) / np.nanvar( y, dim)\n",
    "# hnanrvf = lambda y,yh,dim: np.nanmean( np.abs(yh-y)**2, dim) / np.nanvar( y, dim)\n"
   ]
  },
  {
   "cell_type": "code",
   "execution_count": null,
   "metadata": {},
   "outputs": [],
   "source": [
    "hnormv = lambda X,d=0: X / np.sqrt(np.nansum(np.abs(X)**2,d,keepdims=True)) # +++\n",
    "# n = np.any( ~np.isnan(Data.loc[:,:,'y'].values), 0)\n",
    "# hscalez(Data.loc[:,:,'y'].values[:,n],1) * hscalez(Data.loc[:,:,'yh'].values[:,n],1)\n",
    "n = np.all( ~np.isnan(Data.values[:,:,-2]), 0)\n",
    "tmp = np.prod( hscalez( Data.values[:,n,-2:], -2), -1).sum(-1)\n",
    "#< hpcorr = lambda X: np.prod( hscalez( X[..., np.all(~np.any(np.isnan(X),-1), 0:-2), :], -2), -1).sum(-2)\n",
    "hpcorr = lambda X: np.nansum( np.prod( hnormv( np.where(np.any(np.isnan(X),-1,keepdims=True),np.nan,X), -2), -1), -1) # +++\n",
    "#< hrcoef = lambda X: np.nansum( X[:,:,-2] * hnormv( np.where(np.any(np.isnan(X),-1),np.nan,X[:,:,-1]), -2), -1) # +++\n",
    "hrcoef = lambda X,Y: np.nansum( Y * hnormv( np.where(np.isnan(Y),np.nan,X), -1), -1) # +++\n",
    "# tmp = hpcorr(Data.values[:,:,-2:])\n",
    "# plt.plot(tmp)\n"
   ]
  },
  {
   "cell_type": "code",
   "execution_count": null,
   "metadata": {},
   "outputs": [],
   "source": [
    "def hnancorr(X,Y,d,ddof=None):\n",
    "    X = np.where(np.isnan(Y),np.nan,X)\n",
    "    Y = np.where(np.isnan(X),np.nan,Y)\n",
    "    X -= np.nanmean(X,d,keepdims=True)\n",
    "    Y -= np.nanmean(Y,d,keepdims=True)\n",
    "    X /= np.sqrt(np.nansum(X**2,d,keepdims=True))\n",
    "    Y /= np.sqrt(np.nansum(Y**2,d,keepdims=True))\n",
    "    if ddof:\n",
    "        return np.nanmean(X*Y,d)*(X.shape[d]-ddof)\n",
    "    return np.nansum(X*Y,d)\n",
    "\n",
    "hpcorr = lambda X: hnancorr( X[...,-1], X[...,-2], -1)\n"
   ]
  },
  {
   "cell_type": "raw",
   "metadata": {},
   "source": [
    "def hnancorr(X,Y,d, ddof=None):\n",
    "    X = np.where(np.isnan(Y),np.nan,X)\n",
    "    Y = np.where(np.isnan(X),np.nan,Y)\n",
    "    X -= np.nanmean(X,d,keepdims=True)\n",
    "    Y -= np.nanmean(Y,d,keepdims=True)\n",
    "    X /= np.nanstd(X,d,keepdims=True, ddof=ddof)\n",
    "    Y /= np.nanstd(Y,d,keepdims=True, ddof=ddof)\n",
    "    return np.nanmean(X*Y,d)\n"
   ]
  },
  {
   "cell_type": "code",
   "execution_count": null,
   "metadata": {},
   "outputs": [],
   "source": [
    "# HOWTO assign a new attribute var to an Xarray.DataArray\n",
    "# Data.assign_attrs(wrvf=tmp)\n",
    "\n",
    "# HOWTO convert Xarray.DataArray to Dataset\n",
    "# Data = Data.to_dataset(name='Sig')\n",
    "\n",
    "tmp = hnanrvf( Data[:,:,-2], Data[:,:,-1], -1)\n",
    "# HOWTO assign a new \"coordinate\" var to an Xarray.DataArray\n",
    "Data['WRVF'] = ('Sec',tmp)\n",
    "\n",
    "n = Data.shape[-2]//2 - 60\n",
    "tmp = hnanrvf( Data[:,:n,-2], Data[:,:n,-1],-1)\n",
    "Data['WRVFa'] = ('Sec',tmp)\n",
    "tmp = hnanrvf( Data[:,-n:,-2], Data[:,-n:,-1],-1)\n",
    "Data['WRVFz'] = ('Sec',tmp)\n",
    "\n",
    "Data.attrs['SortBy'] = ('WRVFz', True) # +++ ( coord, ascending=True)\n"
   ]
  },
  {
   "cell_type": "code",
   "execution_count": null,
   "metadata": {},
   "outputs": [],
   "source": [
    "n = Data.shape[-2]//2 - 60\n",
    "#< tmp = ( 100 - hpcorr( Data[:,-n:,-2:] ) * 100).round(0)\n",
    "# tmp = hpcorr( Data[:,-n:,-2:] ).round(3)\n",
    "tmp = hnancorr( Data[:,-n:,-1].values, Data[:,-n:,-2].values, -1 ).round(3)\n",
    "Data['Pcorr'] = ('Sec',tmp)\n",
    "\n",
    "#Data.attrs['SortBy'] = ('Pcorr', False) # +++\n"
   ]
  },
  {
   "cell_type": "code",
   "execution_count": null,
   "metadata": {},
   "outputs": [],
   "source": [
    "n = Data.shape[-2]//2 - 60\n",
    "#< tmp = ( 100 - hpcorr( Data[:,-n:,-2:] ) * 100).round(0)\n",
    "tmp = hrcoef( Data[:,-n:,-1], Data[:,-n:,-2] )\n",
    "Data['Rcoef'] = ('Sec',tmp.round(3))\n",
    "#Data.attrs['SortBy'] = ('Rcoef', False) # +++\n"
   ]
  },
  {
   "cell_type": "code",
   "execution_count": null,
   "metadata": {},
   "outputs": [],
   "source": [
    "# HOWTO sort Xarray by \n",
    "# Data = Data.sortby('WRVFz') # +++\n",
    "Data.attrs['SortBy'] = ('WRVFz', True) # +++\n",
    "#Data.attrs['SortBy'] = ('Pcorr', False) # +++\n",
    "#Data.attrs['SortBy'] = ('Rcoef', False) # +++\n",
    "#Data = Data.sortby( *Data.attrs['SortBy'] ) # +++\n"
   ]
  },
  {
   "cell_type": "code",
   "execution_count": null,
   "metadata": {},
   "outputs": [],
   "source": [
    "#< Data['WRVFz'] = Data.WRVFz.round(3)\n",
    "# Data['WRVFz'] = Data.WRVFz.round(3).values\n",
    "#Data.WRVFz = Data.coords.WRVFz.round(3)\n",
    "#Data.coords['WRVFz']\n",
    "Data[Data.attrs['SortBy'][0]][:16].values"
   ]
  },
  {
   "cell_type": "raw",
   "metadata": {},
   "source": [
    "del Data.coords['WRVF']\n",
    "del Data.coords['WRVFa']\n"
   ]
  },
  {
   "cell_type": "markdown",
   "metadata": {},
   "source": [
    "*******************************\n",
    "# Boxplot Metric stats"
   ]
  },
  {
   "cell_type": "code",
   "execution_count": null,
   "metadata": {},
   "outputs": [],
   "source": [
    "import seaborn as sns"
   ]
  },
  {
   "cell_type": "raw",
   "metadata": {},
   "source": [
    "# HOWTO convert a Pandas (multi)index into column(s)\n",
    "# pd.DataFrame.reset_index() also\n",
    "\n",
    "# HOWTO use Seaborn boxplot\n",
    "sns.boxplot( data=tmp.reset_index(), x='Su', y=tmp.columns[0], hue='Se', whis=0);"
   ]
  },
  {
   "cell_type": "raw",
   "metadata": {},
   "source": [
    "### [+--] Fig: separate figs for Se=1/2\n",
    "fig,ax = plt.subplots(1,1,figsize=(18,3))\n",
    "sns.boxplot( data=tmp.xs(1,level='Se').reset_index(), x='Su', y=tmp.columns[0], hue='Ex', whis=0);\n",
    "plt.gca().get_legend().remove() # How pythetic!\n",
    "fig,ax = plt.subplots(1,1,figsize=(18,3))\n",
    "# HOWTO select a from a PD multiindex level:\n",
    "sns.boxplot( data=tmp.xs(2,level='Se').reset_index(), x='Su', y=tmp.columns[0], hue='Ex', whis=0);\n",
    "\n",
    "# HOWTO remove a legend\n",
    "plt.gca().get_legend().remove() # How pythetic!\n"
   ]
  },
  {
   "cell_type": "raw",
   "metadata": {},
   "source": [
    "### [+--] Seaborn stripplot (categorical scatterplot)\n",
    "tmp = Data.coords[Data.SortBy[0]].to_pandas() # -> pd.Series!\n",
    "tmp = pd.DataFrame(tmp,columns=[Data.SortBy[0]]) # +++ pd.boxplot needs conversion to pd.df\n",
    "# tmp = tmp.sort_index()\n",
    "n = tmp.index.to_frame(False)[['Su','Se','Ex']].apply(tuple,1).tolist()\n",
    "# h = sns.stripplot( data=tmp.sort_index(level=0).reset_index(), y=tmp.columns[0], x=list(map(str,n)), hue='Ex');\n",
    "h = sns.stripplot( data=tmp.reset_index(), y=tmp.columns[0], x=list(map(str,n)), hue='Ex');\n",
    "h.set_xticklabels(h.get_xticklabels(), rotation=45, horizontalalignment='right');\n",
    "# plt.xticks( rotation=45, horizontalalignment='right',fontweight='light')\n",
    "plt.gca().get_legend().orient = 'horiz' # How pythetic!\n",
    "#plt.gca().get_legend().remove() # How pythetic!\n",
    "# plt.legend(ncol=18); # Pythetic!!!\n"
   ]
  },
  {
   "cell_type": "raw",
   "metadata": {},
   "source": [
    "### [+--] Fig: Seaborn swarmplot\n",
    "sns.swarmplot( data=tmp.reset_index(), x='Su', y=tmp.columns[0], hue='Se')\n"
   ]
  },
  {
   "cell_type": "raw",
   "metadata": {},
   "source": [
    "### [+--] Fig: Seaborn swarmplot combined with boxplot\n",
    "sns.boxplot( data=tmp.reset_index(), x='Su', y=tmp.columns[0], hue='Se')\n",
    "sns.swarmplot( data=tmp.reset_index(), x='Su', y=tmp.columns[0], hue='Se', color='gray', dodge=True)"
   ]
  },
  {
   "cell_type": "code",
   "execution_count": null,
   "metadata": {},
   "outputs": [],
   "source": [
    "### [++-] Fig: Boxplots Su by Metrics\n",
    "# HOWTO distribute Seaborn boxplots across mult axes:\n",
    "tmp = pd.DataFrame.from_dict( { n:Data.coords[n] for n in ['Su','Se','WRVFz','Pcorr','Rcoef'] } )\n",
    "tmp.WRVFz = -tmp.WRVFz\n",
    "\n",
    "fig,ax = plt.subplots(1,3,figsize=(18,9))\n",
    "#plt.subplots_adjust(wspace=0.4)\n",
    "#< [ sns.boxplot( data=tmp.reset_index(), x='Su', y=['WRVFz','Pcorr','Rcoef'][n], ax=ax[n], whis=0) for n in range(ax.size)];\n",
    "for n,m in enumerate(['WRVFz','Pcorr','Rcoef']):\n",
    "    sns.boxplot( data=tmp.reset_index(), x='Su', y=m, ax=ax[n], whis=0 ).set(ylabel=None, title=m)\n",
    "\n",
    "ax[0].set_ylim(-2,0); ax[1].set_ylim(-1,1);\n",
    "\n",
    "ProcId = Pars[0]['ProcId'].split('_')[0]\n",
    "#hsavefig(ProcId+'_BoxSuMetrics.png')\n"
   ]
  },
  {
   "cell_type": "raw",
   "metadata": {},
   "source": [
    "tmp.plot(x='WRVFz',y='Pcorr',kind='scatter')\n",
    "tmp.plot(x='WRVFz',y='Rcoef',kind='scatter')\n"
   ]
  },
  {
   "cell_type": "code",
   "execution_count": null,
   "metadata": {},
   "outputs": [],
   "source": [
    "### [++-] Fig: Boxplots Su by Metrics\n",
    "# HOWTO distribute Seaborn boxplots across mult axes:\n",
    "tmp = pd.DataFrame.from_dict( { n:Data.coords[n] for n in ['Su','Se','WRVFz','Pcorr','Rcoef'] } )\n",
    "tmp.WRVFz = -tmp.WRVFz\n",
    "\n",
    "# plt.style.use('default') # necessary reset?\n",
    "fig,ax = plt.subplots(1,3,figsize=(4,6))\n",
    "# HOWTO adjust axes spacing:\n",
    "plt.subplots_adjust(wspace=0.6)\n",
    "for n,m in enumerate(['WRVFz','Pcorr','Rcoef']):\n",
    "    sns.boxplot( data=tmp.reset_index(), y=m, ax=ax[n] ).set(ylabel=None, xlabel=m)\n",
    "    if n == 0: ax[0].axhline(-0.96,c='r')\n",
    "\n",
    "ProcId = Pars[0]['ProcId'].split('_')[0]\n",
    "#hsavefig(ProcId+'_BoxMetrics.png')\n"
   ]
  },
  {
   "cell_type": "code",
   "execution_count": null,
   "metadata": {},
   "outputs": [],
   "source": [
    "tmp.quantile(0.95)\n"
   ]
  },
  {
   "cell_type": "raw",
   "metadata": {},
   "source": [
    "### Fig: ...same separated by Se\n",
    "tmp = pd.DataFrame.from_dict( { n:Data.coords[n] for n in ['Su','Se','WRVFz','Pcorr','Rcoef'] } )\n",
    "tmp.WRVFz = -tmp.WRVFz\n",
    "\n",
    "fig,ax = plt.subplots(1,3,figsize=(18,9))\n",
    "[ sns.boxplot( data=tmp.reset_index(), x='Su', hue='Se', y=['WRVFz','Pcorr','Rcoef'][n], ax=ax[n], whis=0) for n in range(ax.size)];\n"
   ]
  },
  {
   "cell_type": "markdown",
   "metadata": {},
   "source": [
    "## Detailed boxplots of Su + Se + Ex"
   ]
  },
  {
   "cell_type": "raw",
   "metadata": {},
   "source": [
    "### [+++] Fig: Boxplots Su + Se + Ex\n",
    "tmp = Data.coords[Data.SortBy[0]].to_pandas() # -> pd.Series!\n",
    "tmp = pd.DataFrame(tmp,columns=[Data.SortBy[0]]) # +++ pd.boxplot needs conversion to pd.df\n",
    "for n in range(1,4):\n",
    "    # h = tmp.boxplot( by=['Su'], return_type='dict', sym='ro', notch=False, patch_artist=False, showfliers=True, whis=0, showcaps=False)\n",
    "    h = tmp.boxplot( by=['Su','Se','Ex'][:n], return_type='dict', sym='ro', notch=False, patch_artist=False, showfliers=True, whis=0, showcaps=False, rot=90)\n",
    "    plt.suptitle(''); plt.ylabel( plt.gca().get_title() ); plt.title('')\n",
    "    # plt.xticks( rotation=45, horizontalalignment='right',fontweight='light')\n"
   ]
  },
  {
   "cell_type": "markdown",
   "metadata": {},
   "source": [
    "## Compare different ProcGroups if available"
   ]
  },
  {
   "cell_type": "code",
   "execution_count": null,
   "metadata": {},
   "outputs": [],
   "source": [
    "### [++-] Fig: Boxplots by ProcGrp\n",
    "# HOWTO make pd.DF from Xarray.DA.coords\n",
    "tmp = pd.DataFrame.from_dict( { n:Data.coords[n] for n in ['Su','Se','Ex','Sc','ProcGrp','WRVFz','Pcorr','Rcoef'] } )\n",
    "tmp.WRVFz = -tmp.WRVFz # for reverse sorting\n",
    "\n",
    "x = tmp.ProcGrp.unique().tolist()\n",
    "x = sorted(x)\n",
    "\n",
    "m = ('WRVFz','Pcorr','Rcoef')[0] # not much difference!?!\n",
    "fig,ax = plt.subplots(1,1,figsize=(4,6))\n",
    "sns.boxplot( data=tmp.reset_index(), y=m, x='ProcGrp', order=x ).set(ylabel=None, title=m)\n",
    "# sns.boxplot( data=tmp[tmp.Su==86].reset_index(), y='WRVFz', x='ProcGrp') #.set(ylabel=None, xlabel=m)\n",
    "plt.setp(ax.get_xticklabels(), rotation=35);\n",
    "\n",
    "# hsavefig('Su1Vr3+lin+Nt30+Tbat8_BoxWrvfz.png')\n"
   ]
  },
  {
   "cell_type": "raw",
   "metadata": {},
   "source": [
    "### Fig: Diffs - not more telling\n",
    "# HOWTO turn columns into multiindex\n",
    "tmp = tmp.set_index(['Su','Se','Ex','Sc','ProcGrp'])\n",
    "# HOWTO select level value from multiindex and subtract\n",
    "tmp = tmp - tmp.xs(  tmp.index.levels[-1][0], level=-1);\n",
    "\n",
    "fig,ax = plt.subplots(1,1,figsize=(4,6))\n",
    "sns.boxplot( data=tmp.reset_index(), y='WRVFz', x='ProcGrp' ) #.set(ylabel=None, xlabel=m)\n",
    "# ax.set_xticklabels(ax.get_xticklabels(),rotation=30)\n",
    "plt.setp(ax.get_xticklabels(), rotation=20);\n"
   ]
  },
  {
   "cell_type": "raw",
   "metadata": {},
   "source": [
    "### Fig: Combined orig + diff\n",
    "tmp = pd.DataFrame.from_dict( { n:Data.coords[n] for n in ['Su','Se','Ex','Sc','ProcGrp','WRVFz','Pcorr','Rcoef'] } )\n",
    "tmp.WRVFz = -tmp.WRVFz\n",
    "\n",
    "fig,ax = plt.subplots(1,2,figsize=(8,6))\n",
    "# HOWTO adjust axes spacing:\n",
    "plt.subplots_adjust(wspace=0.5)\n",
    "sns.boxplot( data=tmp.reset_index(), y='WRVFz', x='ProcGrp', ax=ax[0] ) #.set(ylabel=None, xlabel=m)\n",
    "plt.setp(ax[0].get_xticklabels(), rotation=20);\n",
    "\n",
    "# HOWTO turn columns into multiindex\n",
    "tmp = tmp.set_index(['Su','Se','Ex','Sc','ProcGrp'])\n",
    "# HOWTO select level value from multiindex and subtract\n",
    "tmp = tmp - tmp.xs( tmp.index.levels[-1][0], level=-1);\n",
    "\n",
    "sns.boxplot( data=tmp.reset_index(), y='WRVFz', x='ProcGrp', ax=ax[1]) #.set(ylabel=None, xlabel=m)\n",
    "# ax.set_xticklabels(ax.get_xticklabels(),rotation=30)\n",
    "plt.setp(ax[1].get_xticklabels(), rotation=20);\n"
   ]
  },
  {
   "cell_type": "markdown",
   "metadata": {},
   "source": [
    "## Table of median per section\n"
   ]
  },
  {
   "cell_type": "code",
   "execution_count": null,
   "metadata": {},
   "outputs": [],
   "source": [
    "### [+++] Save all metrics in a table as .csv\n",
    "# FIXIT: somehow WRVF and WRVFa are identical!?!\n",
    "df = xr.concat([ Data.coords[n] for n in ['Clipped','WRVF','WRVFa','WRVFz','Pcorr','Rcoef'] ], dim='Metric')\n",
    "# df = xr.merge([ Data.coords[n] for n in ['Clipped','WRVF','WRVFa','WRVFz','Pcorr','Rcoef'] ])\n",
    "df = df.to_pandas().T\n",
    "df.columns = ['Clipped','WRVF','WRVFa','WRVFz','Pcorr','Rcoef']\n",
    "# df[['Pcorr','Rcoef']] = -1 * df[['Pcorr','Rcoef']]\n",
    "df = df.sort_index()\n",
    "# df.to_csv('Km_D1Su1Vxn_SsesMetrics.csv') # SAVE to CSV\n",
    "df"
   ]
  },
  {
   "cell_type": "markdown",
   "metadata": {},
   "source": [
    "### Which Su data best predicts it's own left-out scans?\n"
   ]
  },
  {
   "cell_type": "code",
   "execution_count": null,
   "metadata": {},
   "outputs": [],
   "source": [
    "### Create a table of metrics (coordinates)\n",
    "tmp = pd.DataFrame.from_dict( { n:Data.coords[n] for n in ['Su','Se','Ex','WRVFz','Pcorr','Rcoef'] } )\n",
    "tmp[['Pcorr','Rcoef']] = -1*tmp[['Pcorr','Rcoef']] # invert for sorting!\n",
    "#tmp"
   ]
  },
  {
   "cell_type": "code",
   "execution_count": null,
   "metadata": {},
   "outputs": [],
   "source": [
    "### Which Su data best predicts it's own left-out scans?\n",
    "tmp.set_index(['Su','Se','Ex']).groupby(['Su']).median().idxmin()\n",
    "# tmp.drop(['Se','Ex'],1).groupby(['Su']).median().idxmin() # same as above\n",
    "tmp.drop(['Se','Ex'],1).groupby('Su').median().sort_values('WRVFz')\n"
   ]
  },
  {
   "cell_type": "markdown",
   "metadata": {},
   "source": [
    "### Which experiments are best predicted by each subject's data?\n"
   ]
  },
  {
   "cell_type": "raw",
   "metadata": {},
   "source": [
    "Judging by the boxplots below: [3B12, 6A9, 56A7, 63B12, 65A10, 78A7/6, 86A9/7, 105A9]"
   ]
  },
  {
   "cell_type": "code",
   "execution_count": null,
   "metadata": {},
   "outputs": [],
   "source": [
    "tmp.groupby(['Su','Se','Ex']).median().groupby('Su').idxmin()\n"
   ]
  },
  {
   "cell_type": "raw",
   "metadata": {},
   "source": [
    "### [+++] Save the best indices .idxmin to csv files\n",
    "tmp.groupby(['Su','Se','Ex']).median().groupby('Su').idxmin().to_csv('Km_D1Su1Vxn_SuMinMedianWRVFz.csv') # lowest median\n",
    "tmp.groupby(['Su','Se','Ex']).mean().groupby('Su').idxmin().to_csv('Km_D1Su1Vxn_SuMinMeanWRVFz.csv') # lowest mean\n",
    "tmp.groupby(['Su','Se','Ex']).min().groupby('Su').idxmin().to_csv('Km_D1Su1Vxn_SuMinMinWRVFz.csv') # lowest min\n",
    "tmp.groupby(['Su','Se','Ex']).max().groupby('Su').idxmin().to_csv('Km_D1Su1Vxn_SuMinMaxWRVFz.csv') # lowest max\n"
   ]
  },
  {
   "cell_type": "markdown",
   "metadata": {},
   "source": [
    "# Plot best signals"
   ]
  },
  {
   "cell_type": "raw",
   "metadata": {},
   "source": [
    "Data.coords['WRVFz'].argsort()"
   ]
  },
  {
   "cell_type": "raw",
   "metadata": {},
   "source": [
    "### [++-] Fig: one axes, top metric\n",
    "# h = Data[0,:,:].plot.line(x='t');\n",
    "h = Data[0,:,[0,1,-2,-1]].plot.line(x='t');\n",
    "plt.setp(h[-2],'marker','o','ls','None','color','r');\n",
    "plt.setp(h[-1],'color','r');\n",
    "#plt.legend([ n.get_label() for n in h]) # Why this don't work?!?\n",
    "plt.legend(Data.coords['Ch'].values[[0,1,-2,-1]]);"
   ]
  },
  {
   "cell_type": "raw",
   "metadata": {},
   "source": [
    "Data.WRVFz[:15].values\n",
    "Data.Sec[:15]"
   ]
  },
  {
   "cell_type": "raw",
   "metadata": {},
   "source": [
    "# h = Data[0,:,:].plot.line(x='t',row='Ch', figsize=(18,9), yscale=None, sharey=False)\n",
    "# h = Data[:5,:,[0,1,-2,-1]].plot.line(x='t',row='Sec', figsize=(18,18));\n",
    "h = Data[:10,:,[0,1,-2,-1]].plot.line(x='t',row='Sec', figsize=(18,18));\n",
    "# h = Data.loc['065',:,['card','resp','y','yh']].plot.line(x='t',row='Sc', figsize=(18,18));\n",
    "# vars(h)\n",
    "#[ (n.set_ylabel(n.get_title()), n.set_title(None)) for n in plt.gcf().get_axes()];\n",
    "# ?!? h.set_ylabels(Data['WRVFz'])\n",
    "[ plt.setp(n[-2:],'color','r') for n in h._mappables ];\n",
    "[ plt.setp(n[-2],'ls','','marker','.','ms',12,'color','r') for n in h._mappables ];\n",
    "# plt.xlim(0,500);\n"
   ]
  },
  {
   "cell_type": "raw",
   "metadata": {},
   "source": [
    "### [+++] Fig:\n",
    "# h = Data[:16,:,[0,1,-2,-1]].plot.line(x='t',col='Sec',col_wrap=2, figsize=(18,18));\n",
    "# h = Data[0:16,Data.shape[1]//2:,[0,1,-2,-1]].plot.line(x='t',col='Sec',col_wrap=2, figsize=(18,18), add_legend=False);\n",
    "h = Data.sel(Sec=~Data.Clipped)[0:16,Data.shape[1]//2:,[0,1,-2,-1]].plot.line(x='t',col='Sec',col_wrap=2, figsize=(18,18), add_legend=False);\n",
    "# NOTE: x/yscale= 'log' or 'lin'\n",
    "# NOTE: Could use xlim to crop.\n",
    "# h = Data.loc['065',:,['card','resp','y','yh']].plot.line(x='t',row='Sc', figsize=(18,18));\n",
    "# vars(h)\n",
    "#< h.row_names = Data.WRVFz[:8].values.astype(str)\n",
    "# h.set_axis_labels( y_var='WRVFz' ) # This works, but doesn't insert data, only the var name!\n",
    "#< [ h.axes.flat[n].set_ylabel('RVFz= %g%%'%h.data.WRVFz.values[n]) for n in range(h.axes.size)];\n",
    "# [ ax.set_ylabel('RVFz= %g%%'%(h.data.WRVFz.values[n]*100).round(1)) for n,ax in enumerate(h.axes.flat)];\n",
    "tmp = (h.data.coords[h.data.SortBy[0]].values*100).round(1)\n",
    "[ ax.set_ylabel('%s= %g%%'%(h.data.SortBy[0],tmp[n])) for n,ax in enumerate(h.axes.flat)];\n",
    "#[ (n.set_ylabel(n.get_title()), n.set_title(None)) for n in plt.gcf().get_axes()];\n",
    "#< h.set_titles('{coord}={value}')\n",
    "\n",
    "# ?!? h.set_ylabels(Data['WRVFz'])\n",
    "[ plt.setp(n[-2:],'color','r') for n in h._mappables ];\n",
    "[ plt.setp(n[-2],'ls','','marker','.','ms',12,'color','r') for n in h._mappables ];\n",
    "#> h.add_legend() # This works, but we can put the legend in the last axes instead:\n",
    "plt.legend(Data.coords['Ch'].values[[0,1,-2,-1]]); # \n",
    "# plt.xlim(0,500);\n"
   ]
  },
  {
   "cell_type": "markdown",
   "metadata": {},
   "source": [
    "### Top sections for 3 metrics"
   ]
  },
  {
   "cell_type": "raw",
   "metadata": {},
   "source": [
    "plt.style.use('default')\n",
    "hplotstyles = lambda : [ plt.style.use('seaborn-talk'), mpl.rcParams.update({'figure.figsize': (18,4)}) ];\n",
    "hplotstyles()"
   ]
  },
  {
   "cell_type": "raw",
   "metadata": {},
   "source": [
    "from cycler import cycler\n",
    "plt.rc('axes', prop_cycle=(cycler(color=['tab:red', 'tab:blue', 'tab:orange', 'gold']) + cycler(marker=['', '', '', '.'])))\n",
    "#mpl.rcParams.update(mpl.rcParamsDefault)\n",
    "hplotstyles()\n",
    "plt.subplot(1,1,1)\n",
    "# plt.subplot(1,1,1, prop_cycle=(cycler(color=['r', 'g', 'b', 'y']) + cycler(linestyle=['-', '--', ':', '-.'])))\n",
    "plt.plot(np.random.randn(10,10))"
   ]
  },
  {
   "cell_type": "markdown",
   "metadata": {},
   "source": [
    "**************************************************"
   ]
  },
  {
   "cell_type": "raw",
   "metadata": {},
   "source": [
    "# https://stackoverflow.com/questions/26413185/how-to-recover-matplotlib-defaults-after-setting-stylesheet\n",
    "# plt.style.use('default')\n",
    "plt.style.available\n",
    "# rcPar = mpl.rcParamsDefault\n",
    "rcPar = dict(mpl.rcParams) # special for %matplotlib inline!\n",
    "# mpl.rcParams.update(mpl.rcParamsDefault)\n",
    "mpl.rcParams['axes.prop_cycle'] = cycler(color=['tab:orange','tab:blue','tab:red','tab:red']) + \\\n",
    "    cycler(marker=[None,None,None,'.'] )\n",
    "# plot something\n",
    "# mpl.rcParams.update(rcPar)\n"
   ]
  },
  {
   "cell_type": "raw",
   "metadata": {},
   "source": [
    "hlinecolors = lambda : mpl.rcParams['axes.prop_cycle'].by_key()['color']\n",
    "hlinecolors = lambda x=None: ( mpl.rcParams['axes.prop_cycle'].by_key()['color'], \\\n",
    "                              mpl.rcParams['axes.prop_cycle'].update( color=L )[x!=None]\n",
    "def hlinecolors(L=None):\n",
    "    if L is not None:\n",
    "        mpl.rcParams['axes.prop_cycle'] = cycler(L)\n",
    "    return mpl.rcParams['axes.prop_cycle'].by_key()['color']\n",
    "    \n"
   ]
  },
  {
   "cell_type": "raw",
   "metadata": {},
   "source": [
    "# https://matplotlib.org/cycler/\n",
    "from cycler import cycler\n",
    "# hlinecolors = lambda : mpl.rcParams['axes.prop_cycle'].by_key()['color']\n",
    "hmoveitem = lambda L,A,B,n=0: L.insert( L.index(B)+n, L.pop( L.index(A)))\n",
    "# tmp = mpl.rcParams['axes.prop_cycle']\n",
    "# cycler ( **tmp.by_key() )\n",
    "tmp = mpl.rcParams['axes.prop_cycle'].by_key()\n",
    "tmp = [ tmp[n] for n in [1,0]+list(range(2,len(tmp)))]\n",
    "# tmp.update( color={'tab:blue', 'tab:orange', 'tab:green', 'tab:red', 'tab:purple', 'tab:brown', 'tab:pink', 'tab:gray', 'tab:olive', 'tab:cyan'})\n",
    "tmp.update( color=['tab:orange','tab:blue','tab:red'])\n",
    "hlinecolors()"
   ]
  },
  {
   "cell_type": "raw",
   "metadata": {},
   "source": [
    "try: rcPar.keys\n",
    "except: rcPar = dict(mpl.rcParams) # special for %matplotlib inline!\n",
    "mpl.rcParams['axes.prop_cycle'] = cycler(color=['tab:orange','tab:blue','tab:green','tab:red','tab:purple','tab:brown','tab:pink','tab:gray','tab:olive','tab:cyan'])\n",
    "mpl.rcParams.update(rcPar)"
   ]
  },
  {
   "cell_type": "raw",
   "metadata": {},
   "source": [
    "Data = Data.sel(ProcGrp='Su0Vs1Rx2s')\n",
    "Data.coords"
   ]
  },
  {
   "cell_type": "code",
   "execution_count": null,
   "metadata": {},
   "outputs": [],
   "source": [
    "# mpl.rcParams.update({'font.size': 10})\n",
    "for n,m in enumerate([('WRVFz',True),('Pcorr',False),('Rcoef',False)]):\n",
    "    # fig,ax = plt.subplots(2,3,figsize=(18,6))\n",
    "    h = Data.sel(Sec=~Data.Clipped).sortby(*m)[:6,Data.shape[1]//2:,[0,1,-1,-2]].plot.line(\n",
    "        x='t',col='Sec',col_wrap=3, figsize=(18,6), add_legend=False);\n",
    "    [ plt.setp(n[-2:],'color','r') for n in h._mappables ];\n",
    "    [ plt.setp(n[-1],'ls','','marker','.','ms',12,'color','r') for n in h._mappables ];\n",
    "    tmp = (h.data.coords[m[0]].values*100).round(1)\n",
    "    [ ax.set_ylabel('%s= %g%%'%(m[0],tmp[n])) for n,ax in enumerate(h.axes.flat)];\n",
    "    plt.legend(Data.coords['Ch'].values[[0,1,-2,-1]]);\n",
    "    #hsavefig(ProcId+'_Top6'+m[0])\n",
    "    print(ProcId+'_Top6'+m[0]+'.png')\n"
   ]
  },
  {
   "cell_type": "raw",
   "metadata": {},
   "source": [
    "### [++-] Fig: Su by Su\n",
    "m = [('WRVFz',True),('Pcorr',False),('Rcoef',False)][1]\n",
    "for n in np.unique( Data.Su):\n",
    "    h = Data.sel(Sec=~Data.Clipped).sel(Su=n).sortby(*m)[:3,Data.shape[1]//2:,[0,1,-2,-1]].plot.line(\n",
    "        x='t',col='Sec',col_wrap=3, figsize=(18,3), add_legend=False);\n",
    "    [ plt.setp(n[-2:],'color','r') for n in h._mappables ];\n",
    "    [ plt.setp(n[-2],'ls','','marker','.','ms',12,'color','r') for n in h._mappables ];\n",
    "    tmp = (h.data.coords[m[0]].values*100).round(1)\n",
    "    [ ax.set_ylabel('%s= %g%%'%(m[0],tmp[n])) for n,ax in enumerate(h.axes.flat)];\n",
    "    plt.legend(Data.coords['Ch'].values[[0,1,-2,-1]]); # \n"
   ]
  },
  {
   "cell_type": "markdown",
   "metadata": {},
   "source": [
    "### Top 12 sections for XXX metric"
   ]
  },
  {
   "cell_type": "raw",
   "metadata": {},
   "source": [
    "#Data = Data.drop_sel(Sec={'ProcGrp':'Su0Vs1'}) # should work, but does not\n",
    "Data = Data[ Data.ProcGrp != 'Su0Vs1', ...]\n",
    "Data.coords"
   ]
  },
  {
   "cell_type": "raw",
   "metadata": {},
   "source": [
    "m = [('WRVFz',True),('Pcorr',False),('Rcoef',False)][0] # *** choose Pcorr\n",
    "# h = Data.sortby(*m)[:12,Data.shape[1]//2:,[0,1,-2,-1]].plot.line(x='t',col='Sec',col_wrap=3, figsize=(18,12), add_legend=False);\n",
    "h = Data.sel(Sec=~Data.Clipped).sortby(*m)[:15,Data.shape[1]//2:,[0,1,-2,-1]].plot.line(x='t',col='Sec',col_wrap=3, figsize=(18,14), add_legend=False);\n",
    "# h = Data.sel(Sec=~Data.Clipped).sortby(*m).sel(Su=63)[:12,Data.shape[1]//2:,[0,1,-2,-1]].plot.line(x='t',col='Sec',col_wrap=3, figsize=(18,12), add_legend=False);\n",
    "[ plt.setp(n[-2:],'color','r') for n in h._mappables ];\n",
    "[ plt.setp(n[-2],'ls','','marker','.','ms',12,'color','r') for n in h._mappables ];\n",
    "tmp = (h.data.coords[m[0]].values*100).round(1)\n",
    "[ ax.set_ylabel('%s= %g%%'%(m[0],tmp[n])) for n,ax in enumerate(h.axes.flat)];\n",
    "plt.legend(Data.coords['Ch'].values[[0,1,-2,-1]]); # \n",
    "\n",
    "# hsavefig( ProcId+'_Top12WRVFz.png')\n"
   ]
  },
  {
   "cell_type": "code",
   "execution_count": null,
   "metadata": {},
   "outputs": [],
   "source": [
    "# m = [('WRVFz',True),('Pcorr',False),('Rcoef',False)][0] # *** choose Pcorr\n",
    "# h = Data.sortby(*m)[:12,Data.shape[1]//2:,[0,1,-2,-1]].plot.line(x='t',col='Sec',col_wrap=3, figsize=(18,12), add_legend=False);\n",
    "# h = Data.sel(Sec=~Data.Clipped).sortby(*m)[:np.prod(RC),Data.shape[1]//2:,[0,1,-2,-1]].plot.line(x='t',col='Sec',col_wrap=RC[1], figsize=(18,14), add_legend=False);\n",
    "def hPlotXYYh1( Data ):\n",
    "    h = Data.plot.line(x='t',col='Sec', col_wrap=3, figsize=(18,14), add_legend=False);\n",
    "    # h = Data.sel(Sec=~Data.Clipped).sortby(*m).sel(Su=63)[:12,Data.shape[1]//2:,[0,1,-2,-1]].plot.line(x='t',col='Sec',col_wrap=3, figsize=(18,12), add_legend=False);\n",
    "    [ plt.setp(n[-2:],'color','r') for n in h._mappables ];\n",
    "    [ plt.setp(n[-2],'ls','','marker','.','ms',12,'color','r') for n in h._mappables ];\n",
    "    tmp = (h.data.coords[m[0]].values*100).round(1)\n",
    "    [ ax.set_ylabel('%s= %g%%'%(m[0],tmp[n])) for n,ax in enumerate(h.axes.flat)];\n",
    "    plt.legend(Data.coords['Ch'].values[[0,1,-2,-1]]); # \n",
    "\n",
    "    # hsavefig( ProcId+'_Top12WRVFz.png')\n"
   ]
  },
  {
   "cell_type": "code",
   "execution_count": null,
   "metadata": {},
   "outputs": [],
   "source": [
    "# m = [('WRVFz',True),('Pcorr',False),('Rcoef',False)][0] # *** choose Pcorr\n",
    "# h = Data.sortby(*m)[:12,Data.shape[1]//2:,[0,1,-2,-1]].plot.line(x='t',col='Sec',col_wrap=3, figsize=(18,12), add_legend=False);\n",
    "def hPlotXYYh( Data, Sort=('WRVFz',True), RC=(5,3)):\n",
    "    m = Sort\n",
    "    h = Data.sel(Sec=~Data.Clipped).sortby(*m)[:np.prod(RC),Data.shape[1]//2:,[0,1,-2,-1]].plot.line(x='t',col='Sec',col_wrap=RC[1], figsize=(18,14), add_legend=False);\n",
    "    # h = Data.sel(Sec=~Data.Clipped).sortby(*m).sel(Su=63)[:12,Data.shape[1]//2:,[0,1,-2,-1]].plot.line(x='t',col='Sec',col_wrap=3, figsize=(18,12), add_legend=False);\n",
    "    [ plt.setp(n[-2:],'color','r') for n in h._mappables ];\n",
    "    [ plt.setp(n[-2],'ls','','marker','.','ms',12,'color','r') for n in h._mappables ];\n",
    "    tmp = (h.data.coords[m[0]].values*100).round(1)\n",
    "    [ ax.set_ylabel('%s= %g%%'%(m[0],tmp[n])) for n,ax in enumerate(h.axes.flat)];\n",
    "    [ ax.spines[n].set_visible(False) for ax in h.axes.flat for n in ('top','right')];\n",
    "    plt.legend(Data.coords['Ch'].values[[0,1,-2,-1]]); # \n",
    "\n",
    "    # hsavefig( ProcId+'_Top12WRVFz.png')\n",
    "    \n",
    "    return h\n"
   ]
  },
  {
   "cell_type": "code",
   "execution_count": null,
   "metadata": {},
   "outputs": [],
   "source": [
    "# HOWTO remove box i.e. right and top axes (\"spines\") from MPL axes.\n",
    "hboxoff = lambda ax,loc=('top','right'): [ n.spines[m].set_visible(False) for n in ax for m in loc ]\n"
   ]
  },
  {
   "cell_type": "code",
   "execution_count": null,
   "metadata": {},
   "outputs": [],
   "source": [
    "if np.unique(Data.ProcGrp).size > 1: \n",
    "    warn('Multiple ProcGrp in Data.')\n",
    "    ProcId = np.unique(Data.ProcGrp)[0]\n",
    "ProcId"
   ]
  },
  {
   "cell_type": "code",
   "execution_count": null,
   "metadata": {},
   "outputs": [],
   "source": [
    "m = [('WRVFz',True),('Pcorr',False),('Rcoef',False)][0] # *** choose Pcorr\n",
    "# hPlotXYYh( Data, Sort=m )\n",
    "hPlotXYYh( Data.sel(ProcGrp=ProcId), Sort=m )\n",
    "\n",
    "#hsavefig(ProcId+'_Top15'+m[0])\n",
    "print(ProcId+'_Top15'+m[0]+'.png')\n",
    "\n"
   ]
  },
  {
   "cell_type": "markdown",
   "metadata": {},
   "source": [
    "### Bottom 12 sections for XXX metric"
   ]
  },
  {
   "cell_type": "code",
   "execution_count": null,
   "metadata": {},
   "outputs": [],
   "source": [
    "m = [('WRVFz',True),('Pcorr',False),('Rcoef',False)][1] # *** choose Pcorr\n",
    "if False: # Plot sections closest to median (abs)\n",
    "    h = Data.sel(Sec=~Data.Clipped).sortby(np.abs(Data[m[0]]-Data[m[0]].median()))[:12,Data.shape[1]//2:,[0,1,-2,-1]]\\\n",
    "        .plot.line(x='t',col='Sec',col_wrap=3, figsize=(18,12), add_legend=False);\n",
    "else: # Plot sections closest to zero (abs) <-- Pcorr\n",
    "    assert 'WRVF' not in m[0], 'Oops! These are not uncorrelated.'\n",
    "    h = Data.sel(Sec=~Data.Clipped).sortby(np.abs(Data[m[0]]))[:12,Data.shape[1]//2:,[0,1,-2,-1]]\\\n",
    "        .plot.line(x='t',col='Sec',col_wrap=3, figsize=(18,12), add_legend=False);\n",
    "[ plt.setp(n[-2:],'color','r') for n in h._mappables ];\n",
    "[ plt.setp(n[-2],'ls','','marker','.','ms',12,'color','r') for n in h._mappables ];\n",
    "tmp = (h.data.coords[m[0]].values*100).round(1)\n",
    "[ ax.set_ylabel('%s= %g%%'%(m[0],tmp[n])) for n,ax in enumerate(h.axes.flat)];\n",
    "plt.legend(Data.coords['Ch'].values[[0,1,-2,-1]]); # \n",
    "\n",
    "F = '%s_Bot12%s.png'%(ProcId,m[0])\n",
    "print(F)\n",
    "# hsavefig(F,False)\n"
   ]
  },
  {
   "cell_type": "markdown",
   "metadata": {},
   "source": [
    "### Top 3 by *metric* for each Subject"
   ]
  },
  {
   "cell_type": "raw",
   "metadata": {},
   "source": [
    "ProcId = 'Su0Vs1+Su1Vx7'"
   ]
  },
  {
   "cell_type": "raw",
   "metadata": {},
   "source": [
    "idx = Data.sel(ProcGrp='Su1Vx7').Sec\n",
    "Data.WRVFz.sel(ProcGrp='Su0Vs1').sel(Sec=idx)\n",
    "plt.subplots(1,1,figsize=(6,6))\n",
    "plt.plot(Data.WRVFz.sel(ProcGrp='Su1Vx7').sel(Sec=idx).values,\\\n",
    "         Data.WRVFz.sel(ProcGrp='Su0Vs1').sel(Sec=idx).values,'.')\n",
    "plt.axis('equal')\n",
    "plt.ylim(0,1);plt.xlim(0,1)"
   ]
  },
  {
   "cell_type": "code",
   "execution_count": null,
   "metadata": {},
   "outputs": [],
   "source": [
    "idx = Data.sel(ProcGrp='Su1Vx7').Sec\n",
    "plt.hist( [ Data.WRVFz.sel(ProcGrp='Su0Vs1'), Data.WRVFz.sel(ProcGrp='Su1Vx7')], bins=100)\n",
    "plt.legend(np.unique(Data.ProcGrp));"
   ]
  },
  {
   "cell_type": "code",
   "execution_count": null,
   "metadata": {},
   "outputs": [],
   "source": [
    "### Fig: Top 3 Pcorr for each Subject\n",
    "m = [('WRVFz', True),('Pcorr',False),('Rcoef',False)][0] # *** choose Pcorr\n",
    "ProcId = ProcId.split('_')[0]\n",
    "for n in np.unique(Data.Su):\n",
    "    h = Data.sel(Sec=~Data.Clipped).sel(Su=n).sortby(*m)[:3,Data.shape[1]//2:,[0,1,-2,-1]].plot.line(x='t',col='Sec',col_wrap=3, figsize=(18,3), add_legend=False);\n",
    "    # Pcorr closest to zero:\n",
    "    # h = Data.sel(Sec=~Data.Clipped).sortby(np.abs(Data[m[0]])).sel(Su=n)[:3,Data.shape[1]//2:,[0,1,-2,-1]].plot.line(x='t',col='Sec',col_wrap=3, figsize=(18,3), add_legend=False);\n",
    "    [ plt.setp(n[-2:],'color','r') for n in h._mappables ];\n",
    "    [ plt.setp(n[-2],'ls','','marker','.','ms',12,'color','r') for n in h._mappables ];\n",
    "    tmp = (h.data.coords[m[0]].values*100).round(1)\n",
    "    [ ax.set_ylabel('%s= %g%%'%(m[0],tmp[n])) for n,ax in enumerate(h.axes.flat)];\n",
    "    hboxoff( h.axes.flat )\n",
    "    plt.legend(Data.coords['Ch'].values[[0,1,-2,-1]]);\n",
    "    \n",
    "    F = '%s_Top3%sSu%03u.png'%(ProcId,m[0],n)\n",
    "    print(F)\n",
    "    hsavefig(F,False)\n",
    "\n",
    "    # break\n",
    "\n",
    "# HOWTO joing images vertically with ImageMagick\n",
    "# !convert -append *.png tmp.png # stitch all together\n"
   ]
  },
  {
   "cell_type": "raw",
   "metadata": {},
   "source": [
    "tmp = h.data[:,:,-2:].values\n",
    "# tmp = tmp[~np.any(np.isnan(tmp),-1),:]\n",
    "# tmp = tmp[~np.isnan(tmp[:,0]),:]\n",
    "tmp.shape\n",
    "np.nanvar(np.diff(tmp).squeeze(),-1) / np.nanvar(tmp[...,0],-1)"
   ]
  },
  {
   "cell_type": "raw",
   "metadata": {},
   "source": [
    "hnanrvf = lambda y,yh,dim: np.nanvar( yh-y, dim) / np.nanvar( y, dim)\n",
    "hnanrvf(tmp[...,0],tmp[...,1],-1)\n"
   ]
  },
  {
   "cell_type": "markdown",
   "metadata": {},
   "source": [
    "----------------------------------------------------"
   ]
  },
  {
   "cell_type": "raw",
   "metadata": {},
   "source": [
    "### Fig: Top 3 Pcorr for each Subject\n",
    "m = [('WRVFz',True),('Pcorr',False),('Rcoef',False)][1] # *** choose Pcorr\n",
    "for n in np.unique(Data.Su):\n",
    "    # tmp = Data.sel(Sec=~Data.Clipped).sel(Su=n).sortby(*m)[:,:,-2:]\n",
    "    tmp = Data.sel(Su=n).sortby(*m)[:,:,-2:]\n",
    "    tmp = tmp.where( ~np.isnan(tmp[:,:,-2]),drop=True)\n",
    "    h = tmp[:3,tmp.shape[-2]//2:,:].plot.line(x='t',hue='Ch',col='Sec',col_wrap=3,add_legend=False,figsize=(18,3));\n",
    "    # h = tmp.sel(Sec=~Data.Clipped).sel(Su=n).sortby(*m)[:3,Data.shape[1]//2:,[0,1,-2,-1]].plot.line(\n",
    "    # h = tmp[:3,Data.shape[1]//2:,:].plot.line( x='t', hue='Ch', col='Sec',col_wrap=3, figsize=(18,3), add_legend=False);\n",
    "    #> [ plt.setp(n[-2:],'color','r') for n in h._mappables ];\n",
    "    #> [ plt.setp(n[-2],'ls','','marker','.','ms',12,'color','r') for n in h._mappables ];\n",
    "    tmp = (h.data.coords[m[0]].values*100).round(1)\n",
    "    [ ax.set_ylabel('%s= %g%%'%(m[0],tmp[n])) for n,ax in enumerate(h.axes.flat)];\n",
    "    plt.legend(Data.coords['Ch'].values[-2:]); # \n"
   ]
  },
  {
   "cell_type": "raw",
   "metadata": {},
   "source": [
    "np.unique(Data.Su)"
   ]
  },
  {
   "cell_type": "raw",
   "metadata": {},
   "source": [
    "#tmp = Data.sel(Sec=~Data.Clipped).sel(Su=86).sortby(*m)[:,:,-2:]\n",
    "tmp = Data.sel(Su=86).sortby(*m)[:,:,-2:]\n",
    "tmp = tmp.where( ~np.isnan(tmp[:,:,-2]),drop=True)\n",
    "tmp.shape"
   ]
  },
  {
   "cell_type": "raw",
   "metadata": {},
   "source": [
    "n = tmp.shape[-2]//2-3\n",
    "np.diag( np.corrcoef(tmp[:3,-n:,-1],tmp[:3,-n:,-2],rowvar=True), 3)\n",
    "#np.corrcoef(tmp[:3,tmp.shape[-2]//2:,-1],tmp[:3,tmp.shape[-2]//2:,-2],rowvar=True).diagonal(3)\n",
    "# np.corrcoef(tmp[2,tmp.shape[-2]//2:,:],rowvar=False)\n"
   ]
  },
  {
   "cell_type": "raw",
   "metadata": {},
   "source": [
    "np.sum(~Data.Clipped & Data.Su==86).values\n",
    "np.sum(Data.Su==86 & ~Data.Clipped).values\n",
    "(Data.Su==86)"
   ]
  },
  {
   "cell_type": "markdown",
   "metadata": {},
   "source": [
    "----------------------------------------------------"
   ]
  },
  {
   "cell_type": "raw",
   "metadata": {},
   "source": [
    "### [+++] Fig: Vertical fig.\n",
    "for n,m in enumerate([('WRVFz',True),('Pcorr',False),('Rcoef',False)]):\n",
    "    h = Data.sortby( *m).sel( Sec=~Data.Clipped)[:8,Data.shape[1]//2:,[0,1,-2,-1]].plot.line(\n",
    "        x='t',col='Sec',col_wrap=1, figsize=(6,18), add_legend=False);\n",
    "    [ plt.setp(n[-2:],'color','r') for n in h._mappables ];\n",
    "    [ plt.setp(n[-2],'ls','','marker','.','ms',12,'color','r') for n in h._mappables ];\n",
    "    tmp = (h.data.coords[m[0]].values*100).round(1)\n",
    "    [ ax.set_ylabel('%s= %g%%'%(m[0],tmp[n])) for n,ax in enumerate(h.axes.flat)];\n",
    "    plt.legend(Data.coords['Ch'].values[[0,1,-2,-1]]); # \n"
   ]
  },
  {
   "cell_type": "raw",
   "metadata": {},
   "source": [
    "hrank = lambda X: np.searchsorted(X,X,sorter=np.argsort(X,axis=None)).reshape(X.shape)\n"
   ]
  },
  {
   "cell_type": "raw",
   "metadata": {},
   "source": [
    "## [+--] No cigar! Sec coord indep. of sorting. Could make a \"rank\" coord.?\n",
    "xr.concat([Data.sortby(*n).sel(Sec=~Data.Clipped)[:3,Data.shape[1]//2:,[0,1,-2,-1]] \n",
    "           for n in [('WRVFz',True),('Pcorr',False),('Rcoef',False)]],dim='Loss').plot.line(\n",
    "    x='t',row='Sec',col='Loss', figsize=(18,18), add_legend=False);"
   ]
  },
  {
   "cell_type": "markdown",
   "metadata": {},
   "source": [
    "******************************************\n",
    "# Carpet plots?"
   ]
  },
  {
   "cell_type": "code",
   "execution_count": null,
   "metadata": {},
   "outputs": [],
   "source": [
    "tmp = Data[:,:,-2:].diff('Ch').squeeze(drop=True)\n",
    "# tmp = Data[:,:,-1].squeeze(drop=True)\n",
    "tmp = tmp.where(~np.isnan(tmp),drop=True)\n",
    "# tmp = tmp.where(~np.any( np.isnan(tmp),0),drop=True)\n",
    "# tmp = tmp[:,~np.any( np.isnan(tmp),0)]\n",
    "tmp.shape"
   ]
  },
  {
   "cell_type": "raw",
   "metadata": {},
   "source": [
    "for n in np.unique( tmp.Su):\n",
    "    tmp.sel(Su=n).sortby('Sec').reset_index('Sec').plot.imshow(figsize=(18,3),yincrease=None)\n"
   ]
  },
  {
   "cell_type": "raw",
   "metadata": {},
   "source": [
    "tmp.sortby('Sec').reset_index('Sec').plot.imshow(figsize=(10,14),yincrease=None);\n"
   ]
  },
  {
   "cell_type": "code",
   "execution_count": null,
   "metadata": {},
   "outputs": [],
   "source": [
    "tmp = Data.WRVFz\n",
    "tmp = Data.Rcoef\n",
    "tmp = Data.Pcorr\n",
    "tmp = tmp.sortby('Sec')"
   ]
  },
  {
   "cell_type": "code",
   "execution_count": null,
   "metadata": {},
   "outputs": [],
   "source": [
    "# tmp.sortby('Sec').reset_index('Sec').plot.line()\n",
    "tmp.reset_index('Sec').plot.line()\n",
    "#np.nonzero( tmp['Su'].diff(0))\n",
    "#hvline( np.flatnonzero( np.diff(tmp.Su.values))+1)\n",
    "plt.vlines(np.flatnonzero( np.diff(tmp.Su.values))+1,*plt.ylim(),ls=':');\n",
    "plt.hlines(1,*plt.xlim(),'r');\n",
    "np.unique(tmp.Su)"
   ]
  },
  {
   "cell_type": "markdown",
   "metadata": {},
   "source": [
    "******************************************"
   ]
  },
  {
   "cell_type": "raw",
   "metadata": {},
   "source": [
    "tmp = Data.WRVFz.to_pandas() # -> pd.Series!\n",
    "# tmp = pd.DataFrame(tmp) # +++ pd.boxplot needs conversion to pd.df\n",
    "tmp = pd.DataFrame(tmp,columns=['WRVF']) # +++ pd.boxplot needs conversion to pd.df\n",
    "# tmp.groupby('Su').mean().sort_values('WRVF').round().T\n",
    "# h = tmp.boxplot(return_type='dict',notch=True, patch_artist=True, showfliers=False)\n",
    "# h = tmp.groupby('Su').boxplot( subplots=False, return_type='dict', notch=False, patch_artist=False, showfliers=True)\n",
    "# h = tmp.reset_index(level='Sc',drop=True).groupby('Su').boxplot( subplots=False, return_type='dict', notch=False, patch_artist=False, showfliers=True)\n",
    "h = tmp.boxplot( column='WRVF', by='Su', return_type='dict', sym='ro', notch=False, patch_artist=False, showfliers=True, whis=0, showcaps=False)\n",
    "\n",
    "# HOWTO set an axis title in Matplotlib:\n",
    "plt.title('WRVF');\n",
    "\n",
    "# HOWTO set a multi-axes supertitle in Matplotlib:\n",
    "plt.suptitle('');\n"
   ]
  },
  {
   "cell_type": "markdown",
   "metadata": {},
   "source": [
    "**********************************************************\n",
    "# Scratch"
   ]
  },
  {
   "cell_type": "raw",
   "metadata": {},
   "source": [
    "Data.WRVFz.groupby(Data.Sec).min()\n",
    "list(map(str,Data.Sec.values))\n",
    "n = list(map( lambda x: tuple(x[:3]), Data.Sec.values))\n",
    "n = list(map( lambda x: tuple(x[:3]), Data.Sec.values))\n",
    "#Data.Sec.values.tolist()\n",
    "# np.vectorize(lambda x: tuple(x[:3]))(Data.Sec.values)\n",
    "for n in range(Data.Sec.size):\n",
    "    Data.Sec.values[n] = tuple( Data.Sec.values[n][:3])\n"
   ]
  },
  {
   "cell_type": "raw",
   "metadata": {},
   "source": [
    "tmp.index.to_frame(False)[['Se','Ex']].apply(lambda x:'%u:%u'%(x.Se,x.Ex), 1)\n",
    "# list(tmp.index.to_frame(False)[['Se','Ex']].itertuples())\n",
    "n = tmp.index.to_frame(False)[['Se','Ex']].values.tolist()\n",
    "n = tmp.index.to_frame(False)[['Se','Ex']].apply(tuple,1).tolist()\n",
    "\n",
    "#tmp.reset_index()[]\n"
   ]
  },
  {
   "cell_type": "raw",
   "metadata": {},
   "source": [
    "tmp.groupby(['Su','Se','Ex']).mean()\n",
    "tmp.groupby(['Su','Se','Ex']).mean().groupby('Su').idxmin()\n",
    "# tmp.groupby(['Su','Se']).idxmin()\n",
    "# tmp.groupby(['Su']).idxmin()\n"
   ]
  },
  {
   "cell_type": "raw",
   "metadata": {},
   "source": [
    "# HOWTO convert one level of multiindex to pd.Series:\n",
    "tmp.index.get_level_values('Se')==1\n",
    "\n",
    "# HOWTO select one level of multiindex:\n",
    "tmp.xs(1,level=1)"
   ]
  },
  {
   "cell_type": "markdown",
   "metadata": {},
   "source": [
    "Looks like Su 65 and 6 (or 78?) show the best results on these metrics."
   ]
  },
  {
   "cell_type": "raw",
   "metadata": {},
   "source": [
    "tmp = pd.DataFrame.from_dict( { n:Data.coords[n] for n in ['Su','Se','Ex','WRVFz','Pcorr','Rcoef'] } )\n",
    "# tmp.groupby('Su')['WRVF'].idxmin().to_numpy() # shortest scan for each Su -> ValEx tag\n",
    "idx = tmp.groupby(['Su'])['WRVFz'].idxmin()\n",
    "#idx = tmp.reset_index().groupby('Su')['WRVFz'].idxmin()\n",
    "#tmp.groupby('Su')['WRVFz'].min()\n",
    "idx"
   ]
  },
  {
   "cell_type": "raw",
   "metadata": {},
   "source": [
    "tmp.iloc[idx,:]"
   ]
  },
  {
   "cell_type": "markdown",
   "metadata": {},
   "source": [
    "### HOWTO make a MultiIndex for Su*Sec - mult. alternatives:"
   ]
  },
  {
   "cell_type": "raw",
   "metadata": {},
   "source": [
    "### HOWTO make a MultiIndex for Su*Sec - mult. alternatives:\n",
    "import xarray as xr\n",
    "# pd.MultiIndex.from_product([ [1], range(Pars[0]['x'].shape[0])])\n",
    "# [ ( n, m) for n in range(len(Pars)) for m in range(Pars[n]['x'].shape[0]) ]\n",
    "# idx = [ ( int(par['ValSu'][0]), n) for par in Pars for n in range(par['x'].shape[0]) ]\n",
    "\n",
    "if 1:\n",
    "    idx = [ ( par['SuId'], n) for par in Pars for n in range(par['x'].shape[0]) ]\n",
    "    idx = pd.MultiIndex.from_tuples(idx,names=['Su','Sc'])\n",
    "else:\n",
    "    # FIXIT: This gets messed up below with par.SecNp...\n",
    "    idx = [ ( par['SuId'], n, par['ProcId'].split('_')[0]) for par in Pars for n in range(par['x'].shape[0]) ]\n",
    "    idx = pd.MultiIndex.from_tuples(idx,names=['Su','Sc','Grp'])\n",
    "    # idx = idx.remove_unused_levels() # useless!\n",
    "    if idx.levshape[-1]<2 : idx = idx.droplevel(-1)\n",
    "\n",
    "Data = np.concatenate( [ np.concatenate([par['x'],par['y'],par['yh']],-1) for par in Pars ], 0 )\n",
    "Data = xr.DataArray( Data, dims=['Sec','t','Ch'], \\\n",
    "                    coords={'Ch':['card','resp','mask','Gsig','y','yh'], 'Sec':idx})\n",
    "\n",
    "Data.shape\n"
   ]
  },
  {
   "cell_type": "raw",
   "metadata": {},
   "source": [
    "idx = pd.MultiIndex.from_arrays( np.concatenate( [ par['SecNp'] for par in Pars ],0)[:,:-1].T, names=['Su','Se','Ex','Sc'])\n",
    "idx = pd.MultiIndex.from_arrays( np.concatenate( [ par['SecNp'] for par in Pars ],0).T, names=['Su','Se','Ex','Sc','Vt'])\n",
    "idx[ idx.get_level_values(-1) == Pars[0]['ValTag']]\n",
    "#idx.droplevel(-1)"
   ]
  },
  {
   "cell_type": "raw",
   "metadata": {},
   "source": [
    "# idx = np.concatenate( [ par['SecNp'] for par in Pars ],0) # [:,[Su,Se,Ex,Sc,Vtag]]\n",
    "# idx = idx[ idx[:,-1]==Pars[0]['ValTag'] , :] # Use ValTag from Pars[0]\n",
    "idx = np.concatenate( [ par['SecNp'][ par['SecNp'][:,-1]==par['ValTag'],:] for par in Pars ],0) # use ValTag from par[n]\n",
    "idx = pd.MultiIndex.from_arrays( idx[:,:-1].T, names=['Su','Se','Ex','Sc'])\n",
    "#idx"
   ]
  },
  {
   "cell_type": "raw",
   "metadata": {},
   "source": [
    "#< pd.concat( [idx.to_frame(), Tb.index.to_frame().ProcGroup], 1)\n",
    "# Data.set_index({'Grp': Tb.index.get_level_values('ProcGroup')}, append=True)\n",
    "tmp = list( Tb.index.get_level_values('ProcGroup'))\n",
    "Data.assign_coords({'Sec':tmp})\n",
    "#Data.set_index({'Grp': Tb.index.to_frame()[['ProcGroup']]}, append=True)\n",
    "tmp"
   ]
  }
 ],
 "metadata": {
  "kernelspec": {
   "display_name": "python/3.7",
   "language": "python",
   "name": "py3.7"
  },
  "language_info": {
   "codemirror_mode": {
    "name": "ipython",
    "version": 3
   },
   "file_extension": ".py",
   "mimetype": "text/x-python",
   "name": "python",
   "nbconvert_exporter": "python",
   "pygments_lexer": "ipython3",
   "version": "3.7.5"
  }
 },
 "nbformat": 4,
 "nbformat_minor": 4
}
